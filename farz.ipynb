{
 "cells": [
  {
   "cell_type": "code",
   "execution_count": 12,
   "metadata": {},
   "outputs": [],
   "source": [
    "from statistics import mean\n",
    "import networkx as nx\n",
    "from matplotlib.pyplot import figure\n",
    "import matplotlib.patches as mpatches\n",
    "from collections import Counter\n",
    "import matplotlib.pyplot as plt\n",
    "from SEIRNetwork import SEIRNetwork\n",
    "import numpy as np\n",
    "from math import log"
   ]
  },
  {
   "cell_type": "code",
   "execution_count": 35,
   "metadata": {},
   "outputs": [
    {
     "name": "stdout",
     "output_type": "stream",
     "text": [
      "Generated overall age distribution:\n",
      "0-4: 0.0675\t(0.0227 from target)\n",
      "10-14: 0.0735\t(0.0233 from target)\n",
      "15-19: 0.0742\t(0.0228 from target)\n",
      "20-24: 0.0517\t(-0.0079 from target)\n",
      "25-29: 0.0594\t(-0.0103 from target)\n",
      "30-34: 0.0626\t(-0.0129 from target)\n",
      "35-39: 0.0610\t(-0.0115 from target)\n",
      "40-44: 0.0690\t(-0.0044 from target)\n",
      "45-49: 0.0637\t(-0.0116 from target)\n",
      "5-9: 0.0782\t(0.0283 from target)\n",
      "50-54: 0.0606\t(-0.0111 from target)\n",
      "55-59: 0.0620\t(-0.0128 from target)\n",
      "60-64: 0.0606\t(-0.0103 from target)\n",
      "65-69: 0.0569\t(-0.0021 from target)\n",
      "70-74: 0.0455\t(0.0000 from target)\n",
      "75-79: 0.0220\t(-0.0008 from target)\n",
      "80-84: 0.0173\t(-0.0006 from target)\n",
      "85-89: 0.0083\t(-0.0011 from target)\n",
      "90: 0.0060\t(0.0005 from target)\n",
      "\n",
      "Generated household size distribution:\n",
      "1: 0.1454\t(-0.0109 from target)\n",
      "2: 0.2480\t(0.0098 from target)\n",
      "3: 0.2076\t(-0.0063 from target)\n",
      "4: 0.2073\t(0.0066 from target)\n",
      "5: 0.1166\t(0.0009 from target)\n",
      "6: 0.0750\t(-0.0000 from target)\n",
      "Num households: 3198\n",
      "mean household size: 3.1065084501977704\n",
      "\n",
      "Generating graph for 0-9...\n",
      "GENERATING WITH FARZ GENERATOR\n",
      "GENERATING WITH FARZ GENERATOR\n",
      "Generating graph for 10-19...\n",
      "GENERATING WITH FARZ GENERATOR\n"
     ]
    },
    {
     "name": "stderr",
     "output_type": "stream",
     "text": [
      "/Users/donghan37/Documents/Final Year Project/demo/.venv/lib/python3.8/site-packages/networkx/linalg/graphmatrix.py:187: FutureWarning: adjacency_matrix will return a scipy.sparse array instead of a matrix in Networkx 3.0.\n",
      "  return adjacency_matrix(G, nodelist, dtype, weight)\n"
     ]
    },
    {
     "name": "stdout",
     "output_type": "stream",
     "text": [
      "GENERATING WITH FARZ GENERATOR\n",
      "GENERATING WITH FARZ GENERATOR\n",
      "GENERATING WITH FARZ GENERATOR\n",
      "Generating graph for 20-64...\n",
      "GENERATING WITH FARZ GENERATOR\n",
      "GENERATING WITH FARZ GENERATOR\n",
      "GENERATING WITH FARZ GENERATOR\n",
      "GENERATING WITH FARZ GENERATOR\n",
      "Generating graph for 65+...\n",
      "GENERATING WITH FARZ GENERATOR\n",
      "GENERATING WITH FARZ GENERATOR\n",
      "GENERATING WITH FARZ GENERATOR\n"
     ]
    },
    {
     "name": "stderr",
     "output_type": "stream",
     "text": [
      "/Users/donghan37/Documents/Final Year Project/demo/lib/models.py:673: RuntimeWarning: invalid value encountered in divide\n",
      "  self.delta_Q = numpy.log(self.degree_Q) / numpy.log(numpy.mean(self.degree_Q)) if self.parameters[\n"
     ]
    }
   ],
   "source": [
    "SEIR_network = SEIRNetwork()\n",
    "G = SEIR_network.G_baseline"
   ]
  },
  {
   "cell_type": "code",
   "execution_count": 4,
   "metadata": {},
   "outputs": [
    {
     "name": "stdout",
     "output_type": "stream",
     "text": [
      "Generated overall age distribution:\n",
      "0-4: 0.0700\t(0.0252 from target)\n",
      "10-14: 0.0776\t(0.0274 from target)\n",
      "15-19: 0.0746\t(0.0232 from target)\n",
      "20-24: 0.0508\t(-0.0088 from target)\n",
      "25-29: 0.0622\t(-0.0075 from target)\n",
      "30-34: 0.0653\t(-0.0102 from target)\n",
      "35-39: 0.0610\t(-0.0115 from target)\n",
      "40-44: 0.0636\t(-0.0098 from target)\n",
      "45-49: 0.0593\t(-0.0160 from target)\n",
      "5-9: 0.0727\t(0.0228 from target)\n",
      "50-54: 0.0606\t(-0.0111 from target)\n",
      "55-59: 0.0678\t(-0.0070 from target)\n",
      "60-64: 0.0599\t(-0.0110 from target)\n",
      "65-69: 0.0570\t(-0.0020 from target)\n",
      "70-74: 0.0415\t(-0.0040 from target)\n",
      "75-79: 0.0241\t(0.0013 from target)\n",
      "80-84: 0.0183\t(0.0004 from target)\n",
      "85-89: 0.0095\t(0.0001 from target)\n",
      "90: 0.0042\t(-0.0013 from target)\n",
      "\n",
      "Generated household size distribution:\n",
      "1: 0.1627\t(0.0064 from target)\n",
      "2: 0.2366\t(-0.0016 from target)\n",
      "3: 0.2007\t(-0.0132 from target)\n",
      "4: 0.2001\t(-0.0006 from target)\n",
      "5: 0.1203\t(0.0046 from target)\n",
      "6: 0.0795\t(0.0044 from target)\n",
      "Num households: 3208\n",
      "mean household size: 3.1065084501977704\n",
      "\n",
      "Generating graph for 0-9...\n",
      "GENERATING WITH FARZ GENERATOR\n",
      "GENERATING WITH FARZ GENERATOR\n",
      "Generating graph for 10-19...\n",
      "GENERATING WITH FARZ GENERATOR\n",
      "GENERATING WITH FARZ GENERATOR\n",
      "GENERATING WITH FARZ GENERATOR\n",
      "GENERATING WITH FARZ GENERATOR\n",
      "Generating graph for 20-64...\n",
      "GENERATING WITH FARZ GENERATOR\n",
      "GENERATING WITH FARZ GENERATOR\n",
      "GENERATING WITH FARZ GENERATOR\n",
      "GENERATING WITH FARZ GENERATOR\n",
      "Generating graph for 65+...\n",
      "GENERATING WITH FARZ GENERATOR\n",
      "GENERATING WITH FARZ GENERATOR\n",
      "GENERATING WITH FARZ GENERATOR\n"
     ]
    },
    {
     "data": {
      "text/plain": [
       "<matplotlib.legend.Legend at 0x1032bc220>"
      ]
     },
     "execution_count": 4,
     "metadata": {},
     "output_type": "execute_result"
    },
    {
     "data": {
      "image/png": "[encoded data removed]",
      "text/plain": [
       "<Figure size 1080x360 with 1 Axes>"
      ]
     },
     "metadata": {
      "needs_background": "light"
     },
     "output_type": "display_data"
    }
   ],
   "source": [
    "figure(figsize=(15,5))\n",
    "degree_sequence = sorted([d for n, d in G.degree()], reverse=True)  # degree sequence\n",
    "degreeCount = Counter(degree_sequence)\n",
    "deg, cnt = zip(*degreeCount.items())\n",
    "\n",
    "plt.bar(deg, cnt, width=0.80)\n",
    "\n",
    "plt.title(f\"Degree Distribution of FARZ Contact Network\")\n",
    "plt.ylabel(\"Number of Nodes\")\n",
    "plt.xlabel(\"Degree\")\n",
    "\n",
    "mean_degree_patch = mpatches.Patch(label=f'Average Degree: {mean(degree_sequence)}')\n",
    "plt.legend(handles=[mean_degree_patch])"
   ]
  },
  {
   "cell_type": "code",
   "execution_count": 5,
   "metadata": {},
   "outputs": [
    {
     "data": {
      "text/plain": [
       "(0, 124)"
      ]
     },
     "execution_count": 5,
     "metadata": {},
     "output_type": "execute_result"
    }
   ],
   "source": [
    "min(degree_sequence),max(degree_sequence)"
   ]
  },
  {
   "cell_type": "code",
   "execution_count": 34,
   "metadata": {},
   "outputs": [
    {
     "data": {
      "text/plain": [
       "<matplotlib.legend.Legend at 0x151fd1fd0>"
      ]
     },
     "execution_count": 34,
     "metadata": {},
     "output_type": "execute_result"
    },
    {
     "data": {
      "image/png": "[encoded data removed]",
      "text/plain": [
       "<Figure size 1080x360 with 1 Axes>"
      ]
     },
     "metadata": {
      "needs_background": "light"
     },
     "output_type": "display_data"
    }
   ],
   "source": [
    "figure(figsize=(15,5))\n",
    "degree_sequence = sorted([d for n, d in G.degree()], reverse=True)  # degree sequence\n",
    "degreeCount = Counter(degree_sequence)\n",
    "deg, cnt = zip(*degreeCount.items())\n",
    "\n",
    "\n",
    "plt.scatter(deg, cnt)\n",
    "plt.yscale('log')\n",
    "plt.xscale('log')\n",
    "plt.title(f\"Log-Log Degree Distribution of FARZ Contact Network\")\n",
    "plt.ylabel(\"Log of Number of Nodes\")\n",
    "plt.xlabel(\"Log of Degree\")\n",
    "\n",
    "mean_degree_patch = mpatches.Patch(label=f'Average Degree: {mean(degree_sequence)}')\n",
    "plt.legend(handles=[mean_degree_patch])"
   ]
  },
  {
   "cell_type": "code",
   "execution_count": 39,
   "metadata": {},
   "outputs": [
    {
     "data": {
      "text/plain": [
       "0.17954633695994748"
      ]
     },
     "execution_count": 39,
     "metadata": {},
     "output_type": "execute_result"
    }
   ],
   "source": [
    "nx.degree_pearson_correlation_coefficient(G)"
   ]
  },
  {
   "cell_type": "code",
   "execution_count": 38,
   "metadata": {},
   "outputs": [
    {
     "data": {
      "text/plain": [
       "0.19562323538577928"
      ]
     },
     "execution_count": 38,
     "metadata": {},
     "output_type": "execute_result"
    }
   ],
   "source": [
    "nx.transitivity(G)"
   ]
  }
 ],
 "metadata": {
  "kernelspec": {
   "display_name": "Python 3.8.9 ('.venv': venv)",
   "language": "python",
   "name": "python3"
  },
  "language_info": {
   "codemirror_mode": {
    "name": "ipython",
    "version": 3
   },
   "file_extension": ".py",
   "mimetype": "text/x-python",
   "name": "python",
   "nbconvert_exporter": "python",
   "pygments_lexer": "ipython3",
   "version": "3.8.9"
  },
  "orig_nbformat": 4,
  "vscode": {
   "interpreter": {
    "hash": "b175e3ab49a43ab558b5aa121394a4ef7d758671bd6a09d4081e6ba05e230487"
   }
  }
 },
 "nbformat": 4,
 "nbformat_minor": 2
}
